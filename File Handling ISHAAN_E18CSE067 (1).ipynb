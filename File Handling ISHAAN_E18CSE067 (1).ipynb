{
 "cells": [
  {
   "cell_type": "markdown",
   "metadata": {},
   "source": [
    "# File Handling Part 1"
   ]
  },
  {
   "cell_type": "markdown",
   "metadata": {},
   "source": [
    "### Some commonly used code\n",
    "- fobjr = open(\"sample.txt\", \"r\") # open the file in read only mode\n",
    "- fobjw = open(\"example.txt\", \"w\") # open the file in write mode\n",
    "- data = open(\"sample.txt\").readlines() # read all the contents line wise into data[0], data[1] etc.... \n",
    "- data = open(\"sample.txt\").read() # read all the contents as string into data\n",
    "- fobj.close() # close the file\n",
    "\n",
    "\n",
    "\n",
    "- with open(\"sample.txt\") as fobj # no need to close the file"
   ]
  },
  {
   "cell_type": "markdown",
   "metadata": {},
   "source": [
    "### Read from file"
   ]
  },
  {
   "cell_type": "code",
   "execution_count": 54,
   "metadata": {},
   "outputs": [],
   "source": [
    "# open the file for reading the contents\n",
    "fobj = open(\"sample.txt\", \"w\")\n",
    "fobj.write('hello world \\n')\n",
    "fobj.write('Its me ishaan')\n",
    "fobj.write('\\nWhats your name?')\n",
    "fobj.close()"
   ]
  },
  {
   "cell_type": "code",
   "execution_count": 3,
   "metadata": {
    "scrolled": true
   },
   "outputs": [],
   "source": [
    "for line in fobj:\n",
    "    #print(line)\n",
    "    print(line.rstrip()) # commnet this line and uncomment the first line and run it again"
   ]
  },
  {
   "cell_type": "code",
   "execution_count": 3,
   "metadata": {
    "collapsed": true
   },
   "outputs": [],
   "source": [
    "# close the file after reading the contents\n",
    "fobj.close()"
   ]
  },
  {
   "cell_type": "markdown",
   "metadata": {},
   "source": [
    "### Write to file"
   ]
  },
  {
   "cell_type": "code",
   "execution_count": 4,
   "metadata": {},
   "outputs": [],
   "source": [
    "# open the file for writing\n",
    "fobj2 = open(\"example.txt\", \"w\")\n",
    "\n",
    "# write some text to file\n",
    "fobj2.write(\"Bennett University, \\nGreater Noida\")\n",
    "fobj2.write(\"\\nWriting to file example.txt\")\n",
    "fobj2.write(\"\\nIf example.txt doesn't exixts on the disk, new file will be created\")\n",
    "\n",
    "# close the file after writing\n",
    "fobj2.close()"
   ]
  },
  {
   "cell_type": "markdown",
   "metadata": {},
   "source": [
    "### Program 1: Write a program to read and display the contents of the file \"example.txt\""
   ]
  },
  {
   "cell_type": "code",
   "execution_count": 5,
   "metadata": {
    "scrolled": false
   },
   "outputs": [
    {
     "name": "stdout",
     "output_type": "stream",
     "text": [
      "Bennett University, \n",
      "Greater Noida\n",
      "Writing to file example.txt\n",
      "If example.txt doesn't exixts on the disk, new file will be created\n"
     ]
    }
   ],
   "source": [
    "fobj=open('example.txt','r')\n",
    "a=fobj.read()\n",
    "fobj.close()\n",
    "print(a)"
   ]
  },
  {
   "cell_type": "markdown",
   "metadata": {},
   "source": [
    "### Program 2: WAP to create a new file called \"myinfo.txt\" and write your name, branch, semester, university and hobbies into it. Add code to read the contents of the file and display them."
   ]
  },
  {
   "cell_type": "code",
   "execution_count": 29,
   "metadata": {},
   "outputs": [
    {
     "name": "stdout",
     "output_type": "stream",
     "text": [
      "Ishaan\n",
      "cse\n",
      "1\n",
      "Bennett\n",
      "Chess\n",
      "Ishaan\n",
      "\n",
      "cse\n",
      "\n",
      "1\n",
      "\n",
      "Bennett\n",
      "\n",
      "Chess\n",
      "\n"
     ]
    }
   ],
   "source": [
    "fw=open('myinfo.txt','w')\n",
    "for x in range(5):\n",
    "    a=input('')+'\\n'\n",
    "    fw.write(a)\n",
    "fw.close()\n",
    "fr=open('myinfo.txt','r')\n",
    "for a in fr:\n",
    "    print(a)\n",
    "fr.close()"
   ]
  },
  {
   "cell_type": "markdown",
   "metadata": {},
   "source": [
    "### Program 3: Write a program to write more content to file \"example.txt\" in \"w\" mode and display all the cotents of the file."
   ]
  },
  {
   "cell_type": "code",
   "execution_count": 30,
   "metadata": {},
   "outputs": [
    {
     "name": "stdout",
     "output_type": "stream",
     "text": [
      "Hello\n"
     ]
    }
   ],
   "source": [
    "fobj=open('example.txt','w')\n",
    "fobj.write('Hello')\n",
    "fobj.close()\n",
    "fobj=open('example.txt','r')\n",
    "a=fobj.read()\n",
    "print(a)\n",
    "fobj.close()"
   ]
  },
  {
   "cell_type": "markdown",
   "metadata": {},
   "source": [
    "#### What happended to earlier content of the file \"example.txt\" ??"
   ]
  },
  {
   "cell_type": "markdown",
   "metadata": {},
   "source": [
    "### Program 4: Write a program to read the contents from one file(\"sample.txt\") and write to another file(\"sample_new.txt\") and display the contents of the newly created file."
   ]
  },
  {
   "cell_type": "code",
   "execution_count": 48,
   "metadata": {
    "scrolled": true
   },
   "outputs": [
    {
     "name": "stdout",
     "output_type": "stream",
     "text": [
      "hello world \n",
      "\n",
      "Its me ishaan\n"
     ]
    }
   ],
   "source": [
    "fo=open(\"sample.txt\",'r')\n",
    "fn=open(\"sample_new.txt\",'w')\n",
    "for line in fo:\n",
    "    fn.write(line)\n",
    "fo.close()\n",
    "fn.close()\n",
    "fn=open(\"sample_new.txt\",'r')\n",
    "for x in fn:\n",
    "    print(x)\n",
    "fn.close()"
   ]
  },
  {
   "cell_type": "markdown",
   "metadata": {},
   "source": [
    "### Program 5: Write a program to append some new text to an existing file (\"sample_new.txt\") and display all the contents"
   ]
  },
  {
   "cell_type": "code",
   "execution_count": 49,
   "metadata": {
    "scrolled": true
   },
   "outputs": [
    {
     "name": "stdout",
     "output_type": "stream",
     "text": [
      "hello world \n",
      "\n",
      "Its me ishaan\n",
      "\n",
      "I am student of BU\n"
     ]
    }
   ],
   "source": [
    "fc=open('sample_new.txt','a+')\n",
    "fc.write('\\nI am student of BU')\n",
    "fc.seek(0)\n",
    "for x in fc:\n",
    "    print(x)\n",
    "fc.close()"
   ]
  },
  {
   "cell_type": "markdown",
   "metadata": {},
   "source": [
    "### Program 6: Write a program which does the following:\n",
    "- Read the content of the file(\"sample.txt\") using readlines() method\n",
    "- Print only first and third line of the file\n",
    "- Print all the contents of the file using for loop\n",
    "- Count number of lines of text in the file"
   ]
  },
  {
   "cell_type": "code",
   "execution_count": 58,
   "metadata": {
    "scrolled": false
   },
   "outputs": [
    {
     "name": "stdout",
     "output_type": "stream",
     "text": [
      "hello world \n",
      " Whats your name?\n",
      "\n",
      "hello world \n",
      "\n",
      "Its me ishaan\n",
      "\n",
      "Whats your name?\n",
      "3\n"
     ]
    }
   ],
   "source": [
    "fd=open('sample.txt','r')\n",
    "l=fd.readlines()\n",
    "print (l[0],l[2])\n",
    "print(fd.read())\n",
    "for x in l:\n",
    "    print(x)\n",
    "print(len(l))\n",
    "fd.close()"
   ]
  },
  {
   "cell_type": "markdown",
   "metadata": {},
   "source": [
    "### Program 7: Write a program which does the following:\n",
    "- Read all the content of the file(\"sample.txt\") as a string using read() method. \n",
    "- print first 10 characters of the file\n",
    "- print last 5 character of the file\n",
    "- print all the characters between 10 and 20\n",
    "- print all the conents of the file"
   ]
  },
  {
   "cell_type": "code",
   "execution_count": 63,
   "metadata": {
    "scrolled": false
   },
   "outputs": [
    {
     "name": "stdout",
     "output_type": "stream",
     "text": [
      "hello worl\n",
      "ur name?\n",
      " \n",
      "Its me i\n",
      "hello world \n",
      "Its me ishaan\n",
      "Whats your name?\n"
     ]
    }
   ],
   "source": [
    "fe=open('sample.txt','r')\n",
    "print(fe.read(10))\n",
    "fe.seek(0)\n",
    "a=fe.read()\n",
    "fe.seek(len(a)-6)\n",
    "print(fe.read())\n",
    "fe.seek(10)\n",
    "print(a[11:21])\n",
    "print(a)"
   ]
  },
  {
   "cell_type": "markdown",
   "metadata": {},
   "source": [
    "### Program 8: Write a program which does the following:\n",
    "- Read the contents of the file(\"sample.txt\") using readlines() method\n",
    "- print the first line of the file\n",
    "- Split and display the contents of the first line\n",
    "- print one splitted word per line"
   ]
  },
  {
   "cell_type": "code",
   "execution_count": 65,
   "metadata": {},
   "outputs": [
    {
     "name": "stdout",
     "output_type": "stream",
     "text": [
      "hello world \n",
      "\n",
      "['hello', 'world']\n",
      "hello\n",
      "world\n"
     ]
    }
   ],
   "source": [
    "ff=open('sample.txt','r')\n",
    "l=ff.readlines()\n",
    "print(l[0])\n",
    "l1=l[0].split()\n",
    "print(l1)\n",
    "for x in l1:\n",
    "    print(x)\n",
    "ff.close()"
   ]
  },
  {
   "cell_type": "markdown",
   "metadata": {},
   "source": [
    "### Program 9: Write a program to read the contents of the file(\"sample.txt\") using \"with open()\""
   ]
  },
  {
   "cell_type": "code",
   "execution_count": 66,
   "metadata": {
    "scrolled": false
   },
   "outputs": [
    {
     "name": "stdout",
     "output_type": "stream",
     "text": [
      "hello world \n",
      "\n",
      "Its me ishaan\n",
      "\n",
      "Whats your name?\n"
     ]
    }
   ],
   "source": [
    "with open('sample.txt','r') as fg:\n",
    "    for x in fg:\n",
    "        print(x)"
   ]
  },
  {
   "cell_type": "markdown",
   "metadata": {},
   "source": [
    "### Program 10: Write a program to write to file(\"example2.txt\") using \"with open()\""
   ]
  },
  {
   "cell_type": "code",
   "execution_count": 67,
   "metadata": {},
   "outputs": [],
   "source": [
    "with open('example.txt','w') as fh:\n",
    "    fh.write('Hi')"
   ]
  },
  {
   "cell_type": "markdown",
   "metadata": {},
   "source": [
    "## Optional Programs"
   ]
  },
  {
   "cell_type": "markdown",
   "metadata": {},
   "source": [
    "### Program 11: WAP to find the square and cube of all the numbers between start and end. Create a file named  \"cubes.txt\" and store one number per line into file. Read the values of start and end from the file. Also print the start and ending number. "
   ]
  },
  {
   "cell_type": "raw",
   "metadata": {},
   "source": [
    "Output should look like:\n",
    "Start number = 1\n",
    "End number = 20\n",
    "Cube of 1 is 1\n",
    "Cube 2 is 8\n",
    "Cube of 3 is 27\n",
    "....."
   ]
  },
  {
   "cell_type": "code",
   "execution_count": 74,
   "metadata": {},
   "outputs": [
    {
     "name": "stdout",
     "output_type": "stream",
     "text": [
      "start number1\n",
      "end number20\n",
      "Start number = 1\n",
      " End number= 20\n",
      " Cube of 1 is 1\n",
      " Cube of 2 is 8\n",
      " Cube of 3 is 27\n",
      " Cube of 4 is 64\n",
      " Cube of 5 is 125\n",
      " Cube of 6 is 216\n",
      " Cube of 7 is 343\n",
      " Cube of 8 is 512\n",
      " Cube of 9 is 729\n",
      " Cube of 10 is 1000\n",
      " Cube of 11 is 1331\n",
      " Cube of 12 is 1728\n",
      " Cube of 13 is 2197\n",
      " Cube of 14 is 2744\n",
      " Cube of 15 is 3375\n",
      " Cube of 16 is 4096\n",
      " Cube of 17 is 4913\n",
      " Cube of 18 is 5832\n",
      " Cube of 19 is 6859\n",
      " Cube of 20 is 8000\n"
     ]
    }
   ],
   "source": [
    "with open('cubes.txt','w+') as fi:\n",
    "    st=int(input('start number'))\n",
    "    en=int(input('end number'))\n",
    "    fi.write('Start number = '+str(st) +'\\n End number= '+str(en))\n",
    "    for x in range(st,en+1):\n",
    "        fi.write('\\n Cube of '+ str(x) + ' is ' +str(x**3))\n",
    "    fi.seek(0)\n",
    "    print(fi.read())"
   ]
  },
  {
   "cell_type": "markdown",
   "metadata": {},
   "source": [
    "### Program 12: WAP for following:\n",
    "- Create a new file called \"states.txt\". \n",
    "- Take the values of state and its capital(atleast 10 records) from the user and write them to newly created file.\n",
    "- The file should containt 1 record per state."
   ]
  },
  {
   "cell_type": "code",
   "execution_count": 76,
   "metadata": {},
   "outputs": [
    {
     "name": "stdout",
     "output_type": "stream",
     "text": [
      "StateAP\n",
      "CapitalHYD\n",
      "StateBIHAR\n",
      "CapitalPATNA\n",
      "StateCHATTISGARH\n",
      "CapitalRAIPUR\n",
      "StateGOA\n",
      "CapitalPANAJI\n",
      "StateGUJARAT\n",
      "CapitalGANDHINAGAR\n",
      "StateHARYANA\n",
      "CapitalCHANDIGARH\n",
      "StateHIMACHAL PRADESH\n",
      "CapitalSHIMLA\n",
      "StateJHARKHAND\n",
      "CapitalRANCHI\n",
      "StateKARNATAKA\n",
      "CapitalBENGALURU\n",
      "StateMADHYA PRADESH\n",
      "CapitalBHOPAL\n",
      "\n",
      "HYD is capital of AP\n",
      "PATNA is capital of BIHAR\n",
      "RAIPUR is capital of CHATTISGARH\n",
      "PANAJI is capital of GOA\n",
      "GANDHINAGAR is capital of GUJARAT\n",
      "CHANDIGARH is capital of HARYANA\n",
      "SHIMLA is capital of HIMACHAL PRADESH\n",
      "RANCHI is capital of JHARKHAND\n",
      "BENGALURU is capital of KARNATAKA\n",
      "BHOPAL is capital of MADHYA PRADESH\n"
     ]
    }
   ],
   "source": [
    "with open('states.txt','w+') as fj:\n",
    "    for x in range(10):\n",
    "        state=input('State')\n",
    "        capital=input('Capital')\n",
    "        fj.write('\\n'+capital +' is capital of '+state)\n",
    "    fj.seek(0)\n",
    "    print(fj.read())"
   ]
  },
  {
   "cell_type": "code",
   "execution_count": null,
   "metadata": {},
   "outputs": [],
   "source": []
  }
 ],
 "metadata": {
  "kernelspec": {
   "display_name": "Python 3",
   "language": "python",
   "name": "python3"
  },
  "language_info": {
   "codemirror_mode": {
    "name": "ipython",
    "version": 3
   },
   "file_extension": ".py",
   "mimetype": "text/x-python",
   "name": "python",
   "nbconvert_exporter": "python",
   "pygments_lexer": "ipython3",
   "version": "3.7.0"
  }
 },
 "nbformat": 4,
 "nbformat_minor": 2
}
